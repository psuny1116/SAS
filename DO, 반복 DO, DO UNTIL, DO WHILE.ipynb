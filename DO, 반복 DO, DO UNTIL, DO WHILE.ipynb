{
 "cells": [
  {
   "cell_type": "markdown",
   "metadata": {},
   "source": [
    "# 기본 DO 명령어\n",
    "\n",
    "- DO를 통해 IF명령어 등에서 한번에 여러 명령어를 수행하게 할 수 있음\n",
    "\n",
    "```SAS\n",
    "DATA TEST;\n",
    "SET SASHELP.CLASS;\n",
    "IF AGE=12 THEN DO;     /* AGE변수가 12일 경우 DO 이하에 있는 명령어를 시행함 */\n",
    "NEW='열둘';     \n",
    "NEW2='열두살';     /* NEW변수를 생성하고 '열둘'을 입력하고, NEW2변수를 생성하고 '열두살'을 입력함 */\n",
    "END;     /* DO명령어를 쓸 경우 반드시 END를 사용하여 DO 명령어를 종료해야 함 */\n",
    "RUN;\n",
    "```"
   ]
  },
  {
   "cell_type": "markdown",
   "metadata": {},
   "source": [
    "# 반복 DO 명령어 - 파이썬의 FOR문과 유사\n",
    "\n",
    "```SAS\n",
    "DATA TEST;\n",
    "DO I=1 TO 10 BY 1;     /* I의 값을 1부터 10까지 1씩 증가시킴 */\n",
    "SUMMARY=I+10;     /* SUMMARY컬럼은 I의 값에 10을 더한 값 */\n",
    "OUTPUT;     /* 결과값을 행에 추가함 */\n",
    "END;     /* DO명령어를 종료 */\n",
    "RUN;\n",
    "```"
   ]
  },
  {
   "cell_type": "markdown",
   "metadata": {},
   "source": [
    "# DO UNTIL, DO WHILE 명령어\n",
    "\n",
    "#### DO UNTIL\n",
    "\n",
    "```SAS\n",
    "DATA TEST;\n",
    "DO UNTIL (AGE>=4.5);     /* AGE컬럼이 4.5보다 클 때까지 DO명령어 이하 END명령어 이상을 반복 시행 */\n",
    "AGE+1;\n",
    "DOUBLE=AGE*2;\n",
    "OUTPUT;\n",
    "END;\n",
    "RUN;\n",
    "```\n",
    "\n",
    "#### DO WHILE\n",
    "\n",
    "```SAS\n",
    "DATA TEST;\n",
    "DO WHILE (AGE=<5.5);     /* AGE컬럼이 5.5보다 작을 때만 DO명령어 이하 END명령어 이상을 반복 시행 */\n",
    "AGE+1;\n",
    "DOUBLE=AGE*2;\n",
    "OUTPUT;\n",
    "END;\n",
    "RUN;\n",
    "```"
   ]
  }
 ],
 "metadata": {
  "kernelspec": {
   "display_name": "Python 3",
   "language": "python",
   "name": "python3"
  },
  "language_info": {
   "codemirror_mode": {
    "name": "ipython",
    "version": 3
   },
   "file_extension": ".py",
   "mimetype": "text/x-python",
   "name": "python",
   "nbconvert_exporter": "python",
   "pygments_lexer": "ipython3",
   "version": "3.7.6"
  }
 },
 "nbformat": 4,
 "nbformat_minor": 4
}
