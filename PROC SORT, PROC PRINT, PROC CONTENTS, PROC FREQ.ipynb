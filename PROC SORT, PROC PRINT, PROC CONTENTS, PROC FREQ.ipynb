{
 "cells": [
  {
   "cell_type": "markdown",
   "metadata": {},
   "source": [
    "# PROC SORT(순서대로 정렬하기)\n",
    "\n",
    "- PROC SORT: SORT 프로시저를 시행\n",
    "- DATA=XXX: XXX라는 데이터를 불러옴\n",
    "- OUT=YYY: 결과값을 YYY라는 테이블로 만듦\n",
    "- BY ZZZ: 변수 ZZZ를 기준으로 정렬\n",
    "- DESCENDING: 내림차순 정렬\n",
    "- 오름차순으로 정렬할 때, 변수 ZZZ가 숫자변수이면 작은 수부터 차례대로 오름차순 정렬함.\n",
    "- 하지만 문자변수이면 한글은 가나다순, 영어는 알파벳순으로 정렬됨. 한글과 영어가 섞여있으면 영어 먼저, 그 다음 한글 순\n",
    "- OUT=YYY명령어를 사용하지 않는다면, DATA=XXX에서 정렬을 시행하고 이를 그대로 같은 테이블에 저장함\n",
    "\n",
    "```SAS\n",
    "PROC SORT DATA=SASHELP.CLASS OUT=TEST;     /* SASHELP라이브러리의 CLASS 테이블을 불러와 정렬을 하고 이를 WORK라이브러리의(라이브러리 설정 안했으므로 기본 임시저장) TEST테이블로 저장함 */\n",
    "BY DESCENDING AGE;     /* AGE를 기준으로 내림차순 정렬. DESCENDING를 쓰지 않는다면 기본값은 오름차순 정렬 */\n",
    "RUN;\n",
    "```"
   ]
  },
  {
   "cell_type": "markdown",
   "metadata": {},
   "source": [
    "# PROC PRINT(테이블 보여주기)\n",
    "\n",
    "- PROC PRINT: PRINT 프로시저를 시행\n",
    "- DATA=XXX: XXX라는 데이터를 불러옴\n",
    "- VAR XXX: 지정된 변수 XXX를 불러옴\n",
    "- ID XXX: 지정된 변수를 기준값으로 활용\n",
    "- BY XXX: 지정된 변수를 그룹으로 만듦\n",
    "- 이때 BY가 오름차순으로 정렬되어 있어야 함\n",
    "\n",
    "```SAS\n",
    "PROC PRINT DATA=SASHELP.CLASS;     /* SASHELP라이브러리의 CLASS테이블을 불러와서 보여줌 */\n",
    "VAR AGE NAME;     /* 그 중에서 AGE, NAME 변수만 불러옴 */\n",
    "RUN;\n",
    "```\n",
    "\n",
    "#### 예\n",
    "\n",
    "```SAS\n",
    "PROC SORT DATA=SASHELP.CLASS OUT=TEST;\n",
    "BY AGE;\n",
    "RUN;\n",
    "\n",
    "PROC PRINT DATA=TEST;\n",
    "VAR AGE NAME;\n",
    "ID AGE;     /* AGE를 기준값으로 사용함 */\n",
    "BY AGE;     /* AGE를 그룹으로 만듦. 이때 BY구문이 적용되는 변수는 오름차순 정렬돼 있어야 함. 그래서 위에서 SORT먼저 진행함. */\n",
    "RUN;\n",
    "```"
   ]
  },
  {
   "cell_type": "markdown",
   "metadata": {},
   "source": [
    "# PROC CONTENTS(테이블 속성 보기) = 파이썬의 info와 유사함\n",
    "\n",
    "- PROC CONTENTS: CONTENTS 프로시저 시행\n",
    "- DATA=XXX: 탐색할 테이블이나 라이브러리 지정\n",
    "\n",
    "```SAS\n",
    "PROC CONTENTS DATA=SASHELP.CLASS;     /* SASHELP라이브러리의 CLASS테이블의 속성정보를 불러옴 */\n",
    "RUN;\n",
    "```\n",
    "\n",
    "#### 라이브러리 전체의 속성 확인\n",
    "\n",
    "- DATA=XXX._ALL_: XXX라이브러리와 그 내부에 있는 테이블 전체에 대한 속성정보를 조회함\n",
    "\n",
    "```SAS\n",
    "PROC CONTENTS DATA=WORK._ALL_;     /* XXX라이브러리와 그 내부에 있는 테이블 전체에 대한 속성정보를 불러옴 */\n",
    "RUN;\n",
    "```"
   ]
  },
  {
   "cell_type": "markdown",
   "metadata": {},
   "source": [
    "# PROC FREQ(빈도 조회) = 파이썬의 value_counts와 유사\n",
    "\n",
    "- PROC FREQ: FREQ 프로시저를 시행\n",
    "- DATA=XXX: XXX라는 데이터를 불러옴\n",
    "- TABLE YYY ZZZ: 변수 YYY와 ZZZ를 조회함\n",
    "\n",
    "```SAS\n",
    "PROC FREQ DATA=SASHELP.CLASS;     /* SASHELP라이브러리의 CLASS테이블을 빈도 조회하기 위해 불러옴 */\n",
    "TABLE AGE HEIGHT;     /* AGE와 HEIGHT 변수를 조회함. 빈도 조회를 위해 변수를 불러올 때는 TABLE을 사용함. (하지만, 보통은 변수를 선택할 때는 VAR을 사용함) */\n",
    "RUN;\n",
    "```\n",
    "\n",
    "#### 2차원 표 조회\n",
    "\n",
    "- TABLE AGE * NAME: AGE와 NAME의 2차원 표를 조회\n",
    "\n",
    "```SAS\n",
    "PROC FREQ DATA=SASHELP.CLASS;\n",
    "TABLE AGE*HEIGHT;     /* AGE와 HEIGHT의 2차원 표를 조회함. AGE별 HEIGHT별 빈도, 백분율, 행백분율, 컬럼백분율을 보여줌. 변수 3개도 가능. 3개일때를 예로 들면 SEX*AGE*HEIGHT로 하면 SEX에 따라 표(AGE와 HEIGHT의 2차원 표)가 2개 나옴. */\n",
    "RUN;\n",
    "```"
   ]
  }
 ],
 "metadata": {
  "kernelspec": {
   "display_name": "Python 3",
   "language": "python",
   "name": "python3"
  },
  "language_info": {
   "codemirror_mode": {
    "name": "ipython",
    "version": 3
   },
   "file_extension": ".py",
   "mimetype": "text/x-python",
   "name": "python",
   "nbconvert_exporter": "python",
   "pygments_lexer": "ipython3",
   "version": "3.7.6"
  }
 },
 "nbformat": 4,
 "nbformat_minor": 4
}
