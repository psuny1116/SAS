{
 "cells": [
  {
   "cell_type": "markdown",
   "metadata": {},
   "source": [
    "# SQL로 표 만들기\n",
    "\n",
    "- SAS는 각 문장마다 ;를 붙였지만 SQL은 모든 명령어를 완료한 뒤 가장 마지막에만 ;를 붙임\n",
    "\n",
    "```SAS\n",
    "PROC SQL;     /* SQL프로시저를 불러옴 */\n",
    "SELECT NAME, AGE, HEIGHT     /* NAME, AGE, HEIGHT 컬럼을 선택 */\n",
    "FROM SASHELP.CLASS     /* SASHELP라이브러리에 있는 CLASS 테이블을 불러옴 */\n",
    ";     /* 모든 명령어 종료 */\n",
    "QUIT;     /* SQL 종료 */\n",
    "```\n",
    "\n",
    "#### 테이블에서 전체 컬럼 가져올 때\n",
    "\n",
    "```SAS\n",
    "PROC SQL;\n",
    "SELECT *\n",
    "FROM SASHELP.CLASS\n",
    ";\n",
    "QUIT;\n",
    "```"
   ]
  },
  {
   "cell_type": "markdown",
   "metadata": {},
   "source": [
    "# SQL로 테이블 만들기\n",
    "\n",
    "```SAS\n",
    "PROC SQL;\n",
    "CREATE TABLE TEST AS     /* TEST테이블을 만들고 세부 내용은 AS이하를 따름 */\n",
    "SELECT NAME, AGE, HEIGHT\n",
    "FROM SASHELP.CLASS\n",
    ";\n",
    "QUIT;\n",
    "```\n",
    "\n",
    "#### 위와 동일한 결과가 나오는 코드를 SAS문법으로 작성\n",
    "\n",
    "```SAS\n",
    "DATA TEST(KEEP=NAME AGE HEIGHT);\n",
    "SET SASHELP.CLASS;\n",
    "RUN;\n",
    "```"
   ]
  },
  {
   "cell_type": "markdown",
   "metadata": {},
   "source": [
    "# SQL로 사칙연산하기\n",
    "\n",
    "```SAS\n",
    "PROC SQL;\n",
    "CREATE TABLE TEST AS\n",
    "SELECT NAME, SEX, AGE, HEIGHT, AGE+HEIGHT     /* +, -, *, /를 사용한 사칙연산 가능 */\n",
    "FROM SASHELP.CLASS\n",
    ";\n",
    "QUIT;\n",
    "```\n",
    "\n",
    "#### 다양한 수식\n",
    "\n",
    "```SAS\n",
    "PROC SQL;\n",
    "CREATE TABLE TEST AS\n",
    "SELECT NAME, AGE, HEIGHT, WEIGHT, SUM(AGE), SUM(HEIGHT,WEIGHT), MEAN(AGE), MEDIAN(AGE), MIN(AGE), MAX(AGE), VAR(AGE), STD(AGE), COUNT(AGE)\n",
    "FROM SASHELP.CLASS\n",
    ";\n",
    "QUIT;\n",
    "```"
   ]
  },
  {
   "cell_type": "markdown",
   "metadata": {},
   "source": [
    "# SQL로 새 컬럼 이름 부여하기(기존 컬럼 이름 변경도 동일) - AS\n",
    "\n",
    "```SAS\n",
    "PROC SQL;\n",
    "CREATE TABLE TEST AS\n",
    "SELECT NAME, SEX AS MALE_FEMALE, AGE+HEIGHT AS SUM     /* SEX컬럼의 이름을 MALE_FEMALE로 바꾸고, AGE컬럼과 HEIGHT컬럼을 더한 값의 컬럼 이름을 SUM으로 함 */\n",
    "FROM SASHELP.CLASS\n",
    ";\n",
    "QUIT;\n",
    "```"
   ]
  }
 ],
 "metadata": {
  "kernelspec": {
   "display_name": "Python 3",
   "language": "python",
   "name": "python3"
  },
  "language_info": {
   "codemirror_mode": {
    "name": "ipython",
    "version": 3
   },
   "file_extension": ".py",
   "mimetype": "text/x-python",
   "name": "python",
   "nbconvert_exporter": "python",
   "pygments_lexer": "ipython3",
   "version": "3.7.6"
  }
 },
 "nbformat": 4,
 "nbformat_minor": 4
}
