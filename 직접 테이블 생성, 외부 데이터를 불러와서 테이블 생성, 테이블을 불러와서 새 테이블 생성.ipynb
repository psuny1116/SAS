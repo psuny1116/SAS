{
 "cells": [
  {
   "cell_type": "markdown",
   "metadata": {},
   "source": [
    "# 직접 테이블 생성\n",
    "\n",
    "- 파이썬과 다르게 +, -, *, / 사칙연산은 숫자변수에만 적용됨\n",
    "- DATA XXX: 테이블 XXX를 생성함\n",
    "- INPUT YYY \\$ ZZZ: 문자 변수 YYY와 숫자 변수 ZZZ를 생성함\n",
    "- 숫자 변수는 변수명만 입력하고, 문자 변수는 변수명 뒤에 한 칸을 띄우고 $를 붙임\n",
    "- CARDS; XX 1: XX와 1을 각각의 변수에 입력함(이때, CARDS 대신 DATALINES를 써도 됨)\n",
    "\n",
    "```SAS\n",
    "DATA TEST;     /* TEST데이터 생성 */\n",
    "INPUT NAME $ AGE SEX $;     /* 문자변수 NAME, SEX와 숫자변수 AGE 생성 */\n",
    "CARDS;     /* 변수별 데이터 입력 */\n",
    "OK 1 남\n",
    "YOU 2 여\n",
    ";     /* 변수별로 들어갈 데이터 입력 후 ;표시는 아랫줄에 해야 함 */\n",
    "RUN;\n",
    "```\n",
    "\n",
    "#### 문자 변수 길이 설정\n",
    "\n",
    "- SAS는 문자변수를 8글자(영어 기준)까지만 읽어들이도록 설정되어 있음. 한글은 4글자까지만 가능\n",
    "- 그 이상의 문자 변수를 입력하기 위해서는 다음 예와 같이 문자 변수의 길이를 변경해야 함\n",
    "\n",
    "```SAS\n",
    "DATA TEST;\n",
    "INPUT NAME: $18. AGE SEX $;     /* 문자변수 NAME의 포맷을 최대 18글자(알파벳 기준)까지 가능하도록 변경함 */\n",
    "CARDS;\n",
    "OK 1 남\n",
    "YOU 2 여\n",
    "호날두화이팅 3 남\n",
    ";\n",
    "RUN;\n",
    "```\n",
    "\n",
    "#### 입력 대상 데이터 위치 설정(잘 사용하지 않음)\n",
    "\n",
    "- 문자 변수를 읽어들이는 위치 설정. 입력된 데이터가 위치별로 일정하게 정렬돼 있을 때 사용하면 유용.\n",
    "\n",
    "```SAS\n",
    "DATA TEST;\n",
    "INPUT NAME $1-12 AGE 14 SEX $16-17;     /* 1~12번째 칸의 데이터를 문자 변수 NAME의 데이터로, 14번째 칸은 숫자변수 AGE의 데이터로, 16~17번째 칸은 문자 변수 SEX의 데이터로 설정함 */\n",
    "CARDS;\n",
    "OK           1 남\n",
    "YOU          2 여\n",
    "호날두화이팅 3 남\n",
    ";\n",
    "RUN;\n",
    "```"
   ]
  },
  {
   "cell_type": "markdown",
   "metadata": {},
   "source": [
    "# 외부 데이터를 불러와서 테이블 생성\n",
    "\n",
    "- txt, xlsx, csv 파일 불러오기\n",
    "- INFILE 'C:\\SAS_TEST\\TEST.TXT': 'C:\\SAS_TEST'경로에서 TEST.TXT파일 불러오기\n",
    "- INPUT YYY \\$ ZZZ: 문자변수 YYY와 숫자 변수 ZZZ를 생성\n",
    "- DLM=',': 데이터의 구분자는 ','로 구성돼 있음\n",
    "\n",
    "```SAS\n",
    "DATA TEST;     /* TEST데이터 생성 */\n",
    "INFILE 'C:\\SAS_TEST\\TEST.TXT' DLM=',';     /* C:\\SAS_TEST위치에 있는 TEST.TXT파일을 불러오고 이 파일의 구분자는 ,로 이루어짐 */\n",
    "INPUT NAME: $12. AGE SEX $;     /* 문자변수 NAME(알파벳 12글자 길이로 지정)과 SEX, 숫자변수 AGE를 생성함 */\n",
    "RUN;\n",
    "```"
   ]
  },
  {
   "cell_type": "markdown",
   "metadata": {},
   "source": [
    "# 테이블을 불러와서 새 테이블 생성 - 가장 많이 쓰임\n",
    "\n",
    "#### SET을 사용하여 테이블 생성\n",
    "\n",
    "- DATA XXX: 새로운 테이블 XXX를 생성\n",
    "- SET YYY: 기존 테이블 YYY를 불러옴\n",
    "\n",
    "```SAS\n",
    "DATA TEST;     /* TEST테이블을 (라이브러리 지정 안했으므로 WORK라이브러리에 임시저장) 생성 */\n",
    "SET SASHELP.CLASS;     /* SASHELP라이브러리의 CLASS 테이블을 불러옴 */\n",
    "RUN;\n",
    "```"
   ]
  }
 ],
 "metadata": {
  "kernelspec": {
   "display_name": "Python 3",
   "language": "python",
   "name": "python3"
  },
  "language_info": {
   "codemirror_mode": {
    "name": "ipython",
    "version": 3
   },
   "file_extension": ".py",
   "mimetype": "text/x-python",
   "name": "python",
   "nbconvert_exporter": "python",
   "pygments_lexer": "ipython3",
   "version": "3.7.6"
  }
 },
 "nbformat": 4,
 "nbformat_minor": 4
}
