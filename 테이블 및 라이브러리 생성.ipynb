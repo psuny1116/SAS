{
 "cells": [
  {
   "cell_type": "markdown",
   "metadata": {},
   "source": [
    "# 테이블 생성\n",
    "\n",
    "- DATA xxx: xxx라는 이름의 테이블 생성\n",
    "- SET yyy: yyy라는 이름의 테이블을 불러옴\n",
    "- RUN: SAS코딩의 끝을 알려주는 명령어. 명령어 시행\n",
    "- ;: 각 문장의 끝에 ; 붙임. 문장의 끝을 알려줌\n",
    "- /* */: 주석\n",
    "- 대소문자 구분 없음\n",
    "- 코드 작성 후 F3을 누르면 전체 실행됨\n",
    "\n",
    "```SAS\n",
    "DATA TEST;     /* TEST 테이블 생성(아래에서 불러온 데이터를 이용하여 이 테이블을 생성하는 것임) TEST테이블 앞에는 라이브러리를 지정하지 않았으므로 자동으로 WORK라이브러리에 해당 테이블을 임시 저장함. 즉, SAS를 종료하면 사라짐. 그러므로 저장하려면 라이브러리를 생성해서 저장해야 함*/\n",
    "SET SASHELP.CLASS;     /* SASHELP라이브러리의 CLASS라는 테이블을 불러옴 */\n",
    "RUN;     /* 모든 명령어를 종료 */\n",
    "```"
   ]
  },
  {
   "cell_type": "markdown",
   "metadata": {},
   "source": [
    "# 라이브러리 생성\n",
    "\n",
    "- LIBNAME XXX YYY: XXX라는 이름의 라이브러리의 위치를 YYY로 지정\n",
    "\n",
    "```SAS\n",
    "LIBNAME SASTEST \"C:\\SAS\";     /* SASTEST라는 라이브러리를 생성하고 그 위치는 'C:\\SAS'로 함. 이 경우 C드라이브에 SAS라는 폴더를 만들어서 여기에 저장을 하는 경우. */\n",
    "DATA SASTEST.TEST;\n",
    "SET SASHELP.CLASS;\n",
    "RUN;\n",
    "```"
   ]
  }
 ],
 "metadata": {
  "kernelspec": {
   "display_name": "Python 3",
   "language": "python",
   "name": "python3"
  },
  "language_info": {
   "codemirror_mode": {
    "name": "ipython",
    "version": 3
   },
   "file_extension": ".py",
   "mimetype": "text/x-python",
   "name": "python",
   "nbconvert_exporter": "python",
   "pygments_lexer": "ipython3",
   "version": "3.7.6"
  }
 },
 "nbformat": 4,
 "nbformat_minor": 4
}
